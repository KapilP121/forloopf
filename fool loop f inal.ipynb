{
 "cells": [
  {
   "cell_type": "markdown",
   "id": "d492cfcc-ebcd-40b3-a4f3-fbd93b18cd13",
   "metadata": {},
   "source": [
    "\n",
    "Write a Python program to print the numbers from 1 to 10 using a `for` loop"
   ]
  },
  {
   "cell_type": "code",
   "execution_count": null,
   "id": "d06afa92-9eaf-40b6-b1f6-6c5ec63afec4",
   "metadata": {},
   "outputs": [],
   "source": [
    "for a in range(1,11):\n",
    "   print(a)"
   ]
  },
  {
   "cell_type": "markdown",
   "id": "6d7f61bf-4c89-4e3d-b87e-f3c8648d7fd8",
   "metadata": {},
   "source": [
    "Create a program that calculates the sum of all numbers in a list using a `for` loop.\n"
   ]
  },
  {
   "cell_type": "code",
   "execution_count": null,
   "id": "400dd9e9-2b90-4828-bcbb-e4c41165c77f",
   "metadata": {},
   "outputs": [],
   "source": [
    "lst = []\n",
    "num = int(input('How many numbers: '))\n",
    "for n in range(num):\n",
    "    numbers = int(input('Enter number '))\n",
    "    lst.append(numbers)\n",
    "print(\"Sum of elements in given list is :\", sum(lst))"
   ]
  },
  {
   "cell_type": "markdown",
   "id": "3ef52fe5-0a2a-4b5b-ad0f-c73d9974a5a7",
   "metadata": {},
   "source": [
    "Write a program to print the characters of a string in reverse order using a `for` loop.\n"
   ]
  },
  {
   "cell_type": "code",
   "execution_count": null,
   "id": "5d01c5b8-934d-47c8-b3f3-6cdbc526fda9",
   "metadata": {},
   "outputs": [],
   "source": [
    "string = input(\"Enter a string: \")\n",
    "\n",
    "for i in range(len(string) - 1, -1, -1):\n",
    "    print(string[i])"
   ]
  },
  {
   "cell_type": "markdown",
   "id": "e814d1b5-c70b-495b-8bf0-5352653cd827",
   "metadata": {},
   "source": [
    "Develop a program that finds the factorial of a given number using a `for` loop.\n"
   ]
  },
  {
   "cell_type": "code",
   "execution_count": null,
   "id": "4a7a5dfa-0c89-42ec-82f4-eaf9df6f37de",
   "metadata": {},
   "outputs": [],
   "source": [
    "num = 3\n",
    "\n",
    "factorial = 1\n",
    "\n",
    "if num < 0:\n",
    "   print(\"Sorry, factorial does not exist for negative numbers\")\n",
    "elif num == 0:\n",
    "   print(\"The factorial of 0 is 1\")\n",
    "else:\n",
    "   for i in range(1,num + 1):\n",
    "       factorial = factorial*i\n",
    "   print(\"The factorial of\",num,\"is\",factorial)"
   ]
  },
  {
   "cell_type": "markdown",
   "id": "35e81baf-9b5a-4f9a-98ee-a29c27a94e7a",
   "metadata": {},
   "source": [
    "Create a program to print the multiplication table of a given number using a `for` loop.\n"
   ]
  },
  {
   "cell_type": "code",
   "execution_count": null,
   "id": "d68d9c9d-d658-4bde-9ce6-489fd136bb53",
   "metadata": {},
   "outputs": [],
   "source": [
    "number = int(input(\"Enter a number: \"))\n",
    "\n",
    "for i in range(1, 11):\n",
    "    print(f\"{number} x {i} = {number * i}\")"
   ]
  },
  {
   "cell_type": "markdown",
   "id": "0a5b88c7-e349-4793-afc7-3a15276bfe36",
   "metadata": {},
   "source": [
    "Write a program that counts the number of even and odd numbers in a list using a `for` loop"
   ]
  },
  {
   "cell_type": "code",
   "execution_count": null,
   "id": "5e9afe1d-440c-47a9-9025-f465b92cc120",
   "metadata": {},
   "outputs": [],
   "source": [
    "\n",
    "list1 = [10, 21, 4, 45, 66, 93, 1]\n",
    " \n",
    "even_count, odd_count = 0, 0\n",
    " \n",
    "\n",
    "for num in list1:\n",
    " \n",
    "    # checking condition\n",
    "    if num % 2 == 0:\n",
    "        even_count += 1\n",
    " \n",
    "    else:\n",
    "        odd_count += 1\n",
    " \n",
    "print(\"Even numbers in the list: \", even_count)\n",
    "print(\"Odd numbers in the list: \", odd_count)"
   ]
  },
  {
   "cell_type": "markdown",
   "id": "7a93ba63-5760-4547-a3b3-55739a6665bb",
   "metadata": {},
   "source": [
    "Develop a program that prints the squares of numbers from 1 to 5 using a `for` loop"
   ]
  },
  {
   "cell_type": "code",
   "execution_count": null,
   "id": "d1d53f2f-2ec7-457b-b76d-d328ba08cce9",
   "metadata": {},
   "outputs": [],
   "source": [
    "l=[]\n",
    "\n",
    "for i in range (1,6):\n",
    "    l.append(i*i)\n",
    "    print(\" the squares of numbers 1 to 5:\")\n",
    "    print(l)"
   ]
  },
  {
   "cell_type": "markdown",
   "id": "4efe6a84-18d6-40f6-83f8-eded9d8b5fc6",
   "metadata": {},
   "source": [
    "Create a program to find the length of a string without using the `len()` function.\n"
   ]
  },
  {
   "cell_type": "code",
   "execution_count": null,
   "id": "0b71137f-9929-4595-af28-be25ec6800de",
   "metadata": {},
   "outputs": [],
   "source": [
    "string=input(\"Enter string:\")\n",
    "count=0\n",
    "for i in string:\n",
    "      count=count+1\n",
    "print(\"Length of the string is:\")\n",
    "print(count)"
   ]
  },
  {
   "cell_type": "markdown",
   "id": "30dad64a-39bb-465e-93f3-31e96060de0c",
   "metadata": {},
   "source": [
    "Write a program that calculates the average of a list of numbers using a `for` loop.\n"
   ]
  },
  {
   "cell_type": "code",
   "execution_count": null,
   "id": "7134935f-815d-4334-a391-0dfd304063a3",
   "metadata": {},
   "outputs": [],
   "source": [
    "n=int(input(\"Enter the number of elements to be inserted: \"))\n",
    "a=[]\n",
    "for i in range(0,n):\n",
    "    elem=int(input(\"Enter element: \"))\n",
    "    a.append(elem)\n",
    "avg=sum(a)/n\n",
    "print(\"Average of elements in the list\",round(avg,2))"
   ]
  },
  {
   "cell_type": "markdown",
   "id": "053b8603-62ed-4590-addf-bdaccff9f0ee",
   "metadata": {},
   "source": [
    "Write a program to check if a given list contains any duplicates using a `for` loop.\n",
    "\n"
   ]
  },
  {
   "cell_type": "code",
   "execution_count": null,
   "id": "b159a83d-99b3-47f2-b610-95e429e5b185",
   "metadata": {},
   "outputs": [],
   "source": [
    "class Solution:  \n",
    "    def solution(self, list1):  \n",
    "        list1.sort()  \n",
    "        for i in range(1, len(list1)):  \n",
    "            for j in range(0, i):  \n",
    "                if list1[i] == list1[i-1]:  \n",
    "                    return 'true'  \n",
    "            return 'false'  \n",
    "  \n",
    "obj = Solution()                 \n",
    "list1 = [1, 2, 3, 1]  \n",
    "print(obj.solution(list1))      "
   ]
  },
  {
   "cell_type": "code",
   "execution_count": null,
   "id": "b8a87088-c273-4f88-a9bc-430c8fa24120",
   "metadata": {},
   "outputs": [],
   "source": [
    "class Solution:  \n",
    "    def solution(self, list1):  \n",
    "        list1.sort()  \n",
    "        for i in range(1, len(list1)):  \n",
    "            for j in range(0, i):  \n",
    "                if list1[i] == list1[i-1]:  \n",
    "                    return 'true'  \n",
    "            return 'false'  \n",
    "  \n",
    "obj = Solution()                 \n",
    "list1 = [1, 2, 3]  \n",
    "print(obj.solution(list1))      "
   ]
  },
  {
   "cell_type": "markdown",
   "id": "cb9b5fe7-d0e9-43b9-ba3f-6ac31bc28b4b",
   "metadata": {},
   "source": [
    "Create a program that prints the prime numbers in a given range using a `for` loop"
   ]
  },
  {
   "cell_type": "code",
   "execution_count": null,
   "id": "e640d6dd-009c-4281-8c63-6d8f20120d19",
   "metadata": {},
   "outputs": [],
   "source": [
    "lower_value = int(input (\"Please, Enter the Lowest Range Value: \"))  \n",
    "upper_value = int(input (\"Please, Enter the Upper Range Value: \"))  \n",
    "  \n",
    "print (\"The Prime Numbers in the range are: \")  \n",
    "for number in range (lower_value, upper_value + 1):  \n",
    "    if number > 1:  \n",
    "        for i in range (2, number):  \n",
    "            if (number % i) == 0:  \n",
    "                break  \n",
    "        else:  \n",
    "            print (number)  "
   ]
  },
  {
   "cell_type": "markdown",
   "id": "29bba361-ce59-4051-be0e-9035b1234129",
   "metadata": {},
   "source": [
    "Develop a program that counts the number of vowels in a string using a `for` loop.\n"
   ]
  },
  {
   "cell_type": "code",
   "execution_count": null,
   "id": "a62a006d-8fb7-456f-abe2-a7c2d70e9ba2",
   "metadata": {},
   "outputs": [],
   "source": [
    "def count_vowels(string):\n",
    "\n",
    "  vowels = \"aeiou\"\n",
    "  count = 0\n",
    "  for i in range(len(string)):\n",
    "    if string[i] in vowels:\n",
    "      count += 1\n",
    "\n",
    "  return count\n"
   ]
  },
  {
   "cell_type": "code",
   "execution_count": null,
   "id": "21d71c1d-f286-4485-8846-17768e409db1",
   "metadata": {},
   "outputs": [],
   "source": [
    "string = \"Hello Sir\"\n",
    "count = count_vowels(string)\n",
    "print(f\"The number of vowels in '{string}' is {count}\")"
   ]
  },
  {
   "cell_type": "markdown",
   "id": "f773d730-861e-4bdf-a25a-89958b9f9edf",
   "metadata": {},
   "source": [
    "Create a program that removes all occurrences of a specific element from a list using a `for` loop."
   ]
  },
  {
   "cell_type": "code",
   "execution_count": null,
   "id": "95d1bab8-8a03-44eb-8385-42dc454bc26d",
   "metadata": {},
   "outputs": [],
   "source": [
    "# list with integer elements\n",
    "list = [10, 20, 10, 30, 10, 40, 10, 50]\n",
    "# number (n) to be removed\n",
    "n = 10\n",
    "print (\"Original list:\")\n",
    "print (list)\n",
    "for x in list:\n",
    "    if x == n:\n",
    "        list.remove(x)\n",
    "print (\"list after removing elements:\")\n",
    "print (list)"
   ]
  },
  {
   "cell_type": "markdown",
   "id": "fbbff4c9-81ad-4559-a826-835170157883",
   "metadata": {},
   "source": [
    "Develop a program that generates a multiplication table for numbers from 1 to 5 using a nested `for` loop"
   ]
  },
  {
   "cell_type": "code",
   "execution_count": null,
   "id": "988c5d94-2bba-4c73-8dad-016d995d9448",
   "metadata": {},
   "outputs": [],
   "source": [
    "for i in range(1,6):\n",
    "    for j in range(1,6):\n",
    "        print(i*j,end=' ')\n",
    "        \n",
    "    print()\n",
    "   "
   ]
  },
  {
   "cell_type": "markdown",
   "id": "94d109f0-5a13-474b-83db-b070f3dd3294",
   "metadata": {},
   "source": [
    "Write a program that converts a list of Fahrenheit temperatures to Celsius using a `for` loop.\n"
   ]
  },
  {
   "cell_type": "code",
   "execution_count": null,
   "id": "e68978c9-045d-4d75-8e97-8bf330f5e123",
   "metadata": {},
   "outputs": [],
   "source": [
    "elsius = int(input(\"Enter the Temperature in Celsius :\\n\"))\n",
    "fahrenheit= (1.8 * elsius) + 32\n",
    "print(\"Temperature in Fahrenheit :\", fahrenheit)"
   ]
  },
  {
   "cell_type": "markdown",
   "id": "b211554f-dd13-43dc-b920-288086300954",
   "metadata": {},
   "source": [
    "Develop a program that prints the pattern of right-angled triangles using a `for` loop. Use ‘*’ to draw the\n",
    "pattern"
   ]
  },
  {
   "cell_type": "code",
   "execution_count": null,
   "id": "a9543ab8-9171-413d-b0ae-c7edb357e859",
   "metadata": {},
   "outputs": [],
   "source": [
    "for i in range(5):\n",
    "    for j in range(i+1):\n",
    "        print('*',end=' ')\n",
    "    print()"
   ]
  },
  {
   "cell_type": "markdown",
   "id": "835da6e3-ad77-47c6-9d28-99cf924622ae",
   "metadata": {},
   "source": [
    "Write a program to find the greatest common divisor (GCD) of two numbers using a `for` loop."
   ]
  },
  {
   "cell_type": "code",
   "execution_count": null,
   "id": "29025e39-ca30-4485-996a-1b1d37093c72",
   "metadata": {},
   "outputs": [],
   "source": [
    "def gcd(a, b):\n",
    " \n",
    "    # Everything divides 0\n",
    "    while(a > 0 and b > 0):\n",
    "        if (a > b):\n",
    "            a = a % b\n",
    "        else:\n",
    "            b = b % a\n",
    " \n",
    "    if (a == 0):\n",
    "        return b\n",
    "    return a\n",
    " \n",
    " \n",
    "# Driver code\n",
    "if __name__ == '__main__':\n",
    "    a = 98\n",
    "    b = 56\n",
    "    if(gcd(a, b)):\n",
    "        print('GCD of', a, 'and', b, 'is', gcd(a, b))\n",
    "    else:\n",
    "        print('not found')"
   ]
  },
  {
   "cell_type": "markdown",
   "id": "3f9015d4-4154-4ab6-86eb-c05cfc116af8",
   "metadata": {},
   "source": [
    "Create a program that calculates the sum of the digits of numbers in a list using a list comprehension"
   ]
  },
  {
   "cell_type": "code",
   "execution_count": null,
   "id": "d09304bc-6ee6-4783-aa99-228db230fcd7",
   "metadata": {},
   "outputs": [],
   "source": [
    "test_list = [12, 67, 98, 34]\n",
    "\n",
    "print(\"The original list is : \" + str(test_list))\n",
    "\n",
    "\n",
    "res = list(map(lambda ele: sum(int(sub) for sub in str(ele)), test_list))\n",
    "\t\n",
    "\n",
    "print (\"List Integer Summation : \" + str(res))\n"
   ]
  },
  {
   "cell_type": "markdown",
   "id": "c661a0bb-5ba5-4b2f-93bb-f71d53d78f43",
   "metadata": {},
   "source": [
    "Write a program to find the prime factors of a given number using a `for` loop and list compreheDevelop a program that extracts unique elements from a list and stores them in a new list using a list comprehension\n",
    "\n"
   ]
  },
  {
   "cell_type": "code",
   "execution_count": null,
   "id": "93a1954c-3ed4-4688-bbbd-e18198b657f7",
   "metadata": {},
   "outputs": [],
   "source": [
    "# function to get unique values\n",
    "def unique(list1):\n",
    "\n",
    "    # initialize a null list\n",
    "    unique_list = []\n",
    "\n",
    "    # traverse for all elements\n",
    "    for x in list1:\n",
    "        # check if exists in unique_list or not\n",
    "        if x not in unique_list:\n",
    "            unique_list.append(x)\n",
    "    # print list\n",
    "    for x in unique_list:\n",
    "        print (x),\n",
    "# driver code\n",
    "list1 = [10, 20, 10, 30, 40, 40]\n",
    "print(\"the unique values from 1st list is\")\n",
    "unique(list1)\n",
    "\n",
    "\n",
    "list2 = [1, 2, 1, 1, 3, 4, 3, 3, 5]\n",
    "print(\"\\nthe unique values from 2nd list is\")\n",
    "unique(list2)\n"
   ]
  },
  {
   "cell_type": "markdown",
   "id": "891bc9f6-add8-410d-ae2d-984600337ab8",
   "metadata": {},
   "source": [
    "Create a program that generates a list of all palindromic numbers up to a specified limit using a list\n",
    "comprehension.\n"
   ]
  },
  {
   "cell_type": "code",
   "execution_count": null,
   "id": "a7312af5-96da-4353-8961-26ad19e6260c",
   "metadata": {},
   "outputs": [],
   "source": [
    "def is_palindrome(number):\n",
    "  \"\"\"Returns True if the number is a palindrome, False otherwise.\"\"\"\n",
    "  reversed_number = str(number)[::-1]\n",
    "  return number == reversed_number\n",
    "\n",
    "def generate_palindromes(limit):\n",
    "  \"\"\"Generates a list of all palindromic numbers up to the specified limit.\"\"\"\n",
    "  return [number for number in range(1, limit + 1) if is_palindrome(number)]\n",
    "\n",
    "if __name__ == \"__main__\":\n",
    "  limit = int(input(\"Enter the limit: \"))\n",
    "  palindromes = generate_palindromes(limit)\n",
    "  print(\"The palindromic numbers up to {} are: {}\".format(limit, palindromes))"
   ]
  },
  {
   "cell_type": "markdown",
   "id": "b6e0fc89-2f3a-4a17-b249-a3dd28ecb6c3",
   "metadata": {},
   "source": [
    "Write a program to flatten a nested list using list comprehension.\n"
   ]
  },
  {
   "cell_type": "code",
   "execution_count": null,
   "id": "0f5ec8f4-7654-40ae-a9f5-68aa46c3f55e",
   "metadata": {},
   "outputs": [],
   "source": [
    "def flatten_list(nested_list):\n",
    "\n",
    "  flat_list = [item for sublist in nested_list for item in sublist]\n",
    "  return flat_list\n",
    "nested_list = [[1, 2, 3], [4, 5, 6]]\n",
    "flat_list = flatten_list(nested_list)\n",
    "print(flat_list)"
   ]
  },
  {
   "cell_type": "markdown",
   "id": "e9c0d507-c251-4447-87d9-84e808c60faf",
   "metadata": {},
   "source": [
    "Create a program that generates a list of squares of odd numbers between 1 and 10 using list\n",
    "comprehension.\n"
   ]
  },
  {
   "cell_type": "code",
   "execution_count": null,
   "id": "62bda418-9893-4a9f-b64f-a8804cdc4740",
   "metadata": {},
   "outputs": [],
   "source": [
    "squares_of_odd_numbers = [x **2 for x in range(1, 11) if x % 2 != 0]\n",
    "print(squares_of_odd_numbers)"
   ]
  },
  {
   "cell_type": "markdown",
   "id": "4f9b77a7-f159-43e3-a1aa-74004a5696f6",
   "metadata": {},
   "source": [
    "Write a program that combines two lists into a dictionary using list comprehension"
   ]
  },
  {
   "cell_type": "code",
   "execution_count": null,
   "id": "89e17ff4-0f81-4333-a8a5-9290029572fa",
   "metadata": {},
   "outputs": [],
   "source": [
    "key=['name','age','address']\n",
    "value=['kapil','30','Nagpur']\n",
    "\n",
    "dictionary ={key : value for key,value in zip(key,value)}\n",
    "print(dictionary)"
   ]
  },
  {
   "cell_type": "code",
   "execution_count": null,
   "id": "c7ad6063-5abe-4ef3-aa50-742b2d1536b6",
   "metadata": {},
   "outputs": [],
   "source": [
    "Develop a program that extracts the vowels from a string and stores them in a list using list comprehension"
   ]
  },
  {
   "cell_type": "code",
   "execution_count": null,
   "id": "7c426168-6ca8-4b09-9dfa-3de6c51305b5",
   "metadata": {},
   "outputs": [],
   "source": [
    "def extracts_vowels(string):\n",
    "    vowels=[char for char in string if char in \"aeiouAEIOU\" ]\n",
    "    return vowels\n",
    "string = \"Hello, world!\"\n",
    "vowels =extracts_vowels(string)\n",
    "print(vowels)"
   ]
  },
  {
   "cell_type": "markdown",
   "id": "2800f572-4542-4c52-a74a-748fafca6283",
   "metadata": {},
   "source": [
    "Create a program that removes all non-numeric characters from a list of strings using list comprehension.\n"
   ]
  },
  {
   "cell_type": "code",
   "execution_count": null,
   "id": "250bae7b-f184-4a46-a1e1-69149e94514a",
   "metadata": {},
   "outputs": [],
   "source": [
    "import re\n",
    "def remove(list):\n",
    "\tpattern = '[0-9]'\n",
    "\tlist = [re.sub(pattern, '', i) for i in list]\n",
    "\treturn list\n",
    "\n",
    "list = ['4geeks', '3for', '4geeks']\n",
    "print(remove(list))\n"
   ]
  },
  {
   "cell_type": "markdown",
   "id": "4e887cdb-3106-4526-9646-b6213077452d",
   "metadata": {},
   "source": [
    "Write a program to generate a list of prime numbers using the Sieve of Eratosthenes algorithm and list\n",
    "comprehension"
   ]
  },
  {
   "cell_type": "code",
   "execution_count": null,
   "id": "8bc33b05-ae7c-4094-bc1d-e2c5a265f218",
   "metadata": {},
   "outputs": [],
   "source": [
    "def SieveOfEratosthenes(num):\n",
    "\tprime = [True for i in range(num+1)]\n",
    "\tp = 2\n",
    "\twhile (p * p <= num):\n",
    "        \n",
    "\t\tif (prime[p] == True):\n",
    "            \n",
    "\t\t\tfor i in range(p * p, num+1, p):\n",
    "\t\t\t\tprime[i] = False\n",
    "\t\tp += 1\n",
    "\tfor p in range(2, num+1):\n",
    "\t\tif prime[p]:\n",
    "\t\t\tprint(p)\n",
    "\n",
    "if __name__ == '__main__':\n",
    "\tnum = 30\n",
    "\tprint(\"Following are the prime numbers smaller\"),\n",
    "\tprint(\"than or equal to\", num)\n",
    "\tSieveOfEratosthenes(num)\n"
   ]
  },
  {
   "cell_type": "markdown",
   "id": "216d8c47-abcc-43c9-8cc3-fcde1b633b84",
   "metadata": {},
   "source": [
    "Create a program that generates a list of all Pythagorean triplets up to a specified limit using list\n",
    "comprehension"
   ]
  },
  {
   "cell_type": "code",
   "execution_count": null,
   "id": "c8378642-847f-4520-ac75-775843500064",
   "metadata": {},
   "outputs": [],
   "source": [
    "def pythagorean_triplets(limit):\n",
    "  return [(a, b, c) for a in range(1, limit)\n",
    "          for b in range(a, limit)\n",
    "          for c in range(b, limit)\n",
    "          if a ** 2 + b ** 2 == c ** 2]"
   ]
  },
  {
   "cell_type": "code",
   "execution_count": null,
   "id": "012134f8-d736-45da-9221-ee275f55c16e",
   "metadata": {},
   "outputs": [],
   "source": [
    " pythagorean_triplets(20)\n"
   ]
  },
  {
   "cell_type": "markdown",
   "id": "b431f2c1-4cd6-4605-a52f-91b8f63b51a3",
   "metadata": {},
   "source": [
    "Develop a program that generates a list of all possible combinations of two lists using list comprehension.\n"
   ]
  },
  {
   "cell_type": "code",
   "execution_count": null,
   "id": "76a13d3a-e8f0-4755-9eb0-65c8625600f1",
   "metadata": {},
   "outputs": [],
   "source": [
    "def all_combinations(list1, list2):\n",
    " \n",
    " return [\n",
    "      (x, y)\n",
    "      for x in list1\n",
    "      for y in list2\n",
    "  ]"
   ]
  },
  {
   "cell_type": "code",
   "execution_count": null,
   "id": "df3f4549-9d30-4ede-8923-996c5ac9b0a1",
   "metadata": {},
   "outputs": [],
   "source": [
    "list1 = [1, 2, 3]\n",
    "list2 = [4, 5, 6]\n",
    "\n",
    "all_combinations(list1, list2)\n",
    " \n"
   ]
  },
  {
   "cell_type": "markdown",
   "id": "491606c2-cbfe-4342-9a8c-766c1c78969a",
   "metadata": {},
   "source": [
    "Write a program that calculates the mean, median, and mode of a list of numbers using list\n",
    "comprehension.\n"
   ]
  },
  {
   "cell_type": "code",
   "execution_count": null,
   "id": "0ba34e81-f65d-4e04-a575-4ee312973f16",
   "metadata": {},
   "outputs": [],
   "source": [
    "def main():\n",
    "    \n",
    "    numbers = input(\"Enter a list of numbers separated by commas: \")\n",
    "    numbers = [int(x) for x in numbers.split(\",\")]\n",
    "    mean = sum(numbers) / len(numbers)\n",
    "    median = sorted(numbers)[len(numbers) // 2]\n",
    "    mode = sorted(numbers).count(numbers[0])\n",
    "\n",
    "    print(\"Mean:\", mean)\n",
    "    print(\"Median:\", median)\n",
    "    print(\"Mode:\", mode)\n",
    "\n",
    "if __name__ == \"__main__\":\n",
    "    main()"
   ]
  },
  {
   "cell_type": "markdown",
   "id": "bef39c99-22da-49da-b219-c9154e33e3b8",
   "metadata": {},
   "source": [
    "Develop a program that calculates the sum of the digits of a factorial of numbers from 1 to 5 using list\n",
    "comprehension.\n"
   ]
  },
  {
   "cell_type": "code",
   "execution_count": null,
   "id": "546240a3-2d81-4aed-981e-dc4d5c5b68e5",
   "metadata": {},
   "outputs": [],
   "source": [
    "test_list = [12, 67, 98, 34]\n",
    " \n",
    "print(\"The original list is : \" + str(test_list))\n",
    "\n",
    "res = list(map(lambda ele: sum(int(sub) for sub in str(ele)), test_list))\n",
    "     \n",
    "\n",
    "print (\"List Integer Summation : \" + str(res))"
   ]
  },
  {
   "cell_type": "markdown",
   "id": "492d3b35-d18d-4072-a308-4e1c73b5ec52",
   "metadata": {},
   "source": [
    "Write a program that finds the longest word in a sentence using list comprehension.\n"
   ]
  },
  {
   "cell_type": "code",
   "execution_count": 1,
   "id": "c46dc9a9-b7c8-465e-b61d-5bda87073cf6",
   "metadata": {},
   "outputs": [
    {
     "name": "stdin",
     "output_type": "stream",
     "text": [
      "Enter a sentence:  the samall sentence\n"
     ]
    },
    {
     "name": "stdout",
     "output_type": "stream",
     "text": [
      "The longest word in the sentence is: sentence\n"
     ]
    }
   ],
   "source": [
    "def find_longest_word(sentence):\n",
    "\n",
    "  # Split the sentence into words.\n",
    "  words = sentence.split()\n",
    "\n",
    "  # Find the longest word.\n",
    "  longest_word = max(words, key=len)\n",
    "\n",
    "  return longest_word\n",
    "\n",
    "\n",
    "if __name__ == \"__main__\":\n",
    "  # Get the sentence from the user.\n",
    "  sentence = input(\"Enter a sentence: \")\n",
    "\n",
    "  # Find the longest word in the sentence.\n",
    "  longest_word = find_longest_word(sentence)\n",
    "\n",
    "  # Print the longest word.\n",
    "  print(\"The longest word in the sentence is:\", longest_word)"
   ]
  },
  {
   "cell_type": "markdown",
   "id": "7ec7b1db-8de2-4637-ada2-246c776b5126",
   "metadata": {},
   "source": [
    " Create a program that filters a list of strings to include only those with more than three vowels using list\n",
    "comprehension.\n"
   ]
  },
  {
   "cell_type": "code",
   "execution_count": 2,
   "id": "8353bf74-781b-415a-b116-233146bcb83a",
   "metadata": {},
   "outputs": [
    {
     "name": "stdout",
     "output_type": "stream",
     "text": [
      "['supercalifragilisticexpialidocious']\n"
     ]
    }
   ],
   "source": [
    "vowels = set('aeiou')\n",
    "\n",
    "def filter_strings(strings):\n",
    "  return [s for s in strings if len(set(s) & vowels) > 3]\n",
    "\n",
    "strings = ['hello', 'world', 'supercalifragilisticexpialidocious']\n",
    "\n",
    "filtered_strings = filter_strings(strings)\n",
    "\n",
    "print(filtered_strings)"
   ]
  },
  {
   "cell_type": "markdown",
   "id": "1caa6b52-f5e8-4ffc-9eb7-13fe36d6e2fb",
   "metadata": {},
   "source": [
    "Write a program that generates a list of prime palindromic numbers using list comprehension.\n",
    "\n"
   ]
  },
  {
   "cell_type": "markdown",
   "id": "47b86113-e74b-448e-bffd-b9b048405469",
   "metadata": {},
   "source": [
    "def is_prime(n):\n",
    "    if n <= 1:\n",
    "        return False\n",
    "    for i in range(2, int(n ** 0.5) + 1):\n",
    "        if n % i == 0:\n",
    "            return False\n",
    "    return True\n",
    "\n",
    "def is_palindrome(n):\n",
    "    s = str(n)\n",
    "    return s == s[::-1]\n",
    "\n",
    "prime_palindromes = [n for n in range(1, 1000) if is_prime(n) and is_palindrome(n)]\n",
    "print(prime_palindromes)"
   ]
  },
  {
   "cell_type": "code",
   "execution_count": null,
   "id": "db995836-967b-44e5-ae78-4431ef7ee2f2",
   "metadata": {},
   "outputs": [],
   "source": []
  }
 ],
 "metadata": {
  "kernelspec": {
   "display_name": "Python 3 (ipykernel)",
   "language": "python",
   "name": "python3"
  },
  "language_info": {
   "codemirror_mode": {
    "name": "ipython",
    "version": 3
   },
   "file_extension": ".py",
   "mimetype": "text/x-python",
   "name": "python",
   "nbconvert_exporter": "python",
   "pygments_lexer": "ipython3",
   "version": "3.10.8"
  }
 },
 "nbformat": 4,
 "nbformat_minor": 5
}
